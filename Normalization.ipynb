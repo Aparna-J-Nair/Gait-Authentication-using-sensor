{
 "cells": [
  {
   "cell_type": "code",
   "execution_count": null,
   "metadata": {},
   "outputs": [],
   "source": [
    "import pandas as pd\n",
    "import numpy as np\n",
    "import matplotlib.pyplot as plt\n",
    "data_train=pd.read_csv(\" \")  #Add path"
   ]
  },
  {
   "cell_type": "markdown",
   "metadata": {},
   "source": [
    "### Checking train data is Gaussian distribution or not "
   ]
  },
  {
   "cell_type": "code",
   "execution_count": null,
   "metadata": {},
   "outputs": [],
   "source": [
    "from scipy import stats\n",
    "columns=data_train.columns\n",
    "alpha= 0.05\n",
    "for i in columns:\n",
    "    print ([i])\n",
    "    a,b= stats.shapiro(data_train[[i]])\n",
    "    print (\"Statistics\", a, \"p-value\", b)\n",
    "    if b > alpha:  \n",
    "        print(\"Gaussian\")\n",
    "    else:\n",
    "        print(\"not Gaussian\")"
   ]
  },
  {
   "cell_type": "markdown",
   "metadata": {},
   "source": [
    "### Z square normalization"
   ]
  },
  {
   "cell_type": "code",
   "execution_count": null,
   "metadata": {},
   "outputs": [],
   "source": [
    "# copy the data\n",
    "df_min_max_scaled = data_train.copy()\n",
    "  \n",
    "# apply normalization techniques\n",
    "for column in df_min_max_scaled.columns:\n",
    "    df_min_max_scaled[column] = (df_min_max_scaled[column] - df_min_max_scaled[column].min()) / \n",
    "                                (df_min_max_scaled[column].max() - df_min_max_scaled[column].min())    \n",
    "  \n",
    "#normalized_data\n",
    "#print(df_min_max_scaled)\n",
    "df_min_max_scaled=pd.DataFrame(df_min_max_scaled)\n",
    "df_min_max_scaled"
   ]
  },
  {
   "cell_type": "code",
   "execution_count": null,
   "metadata": {},
   "outputs": [],
   "source": [
    "df_min_max_scaled.to_csv(r' ')   #Add path"
   ]
  }
 ],
 "metadata": {
  "kernelspec": {
   "display_name": "Python 3",
   "language": "python",
   "name": "python3"
  },
  "language_info": {
   "codemirror_mode": {
    "name": "ipython",
    "version": 3
   },
   "file_extension": ".py",
   "mimetype": "text/x-python",
   "name": "python",
   "nbconvert_exporter": "python",
   "pygments_lexer": "ipython3",
   "version": "3.7.1"
  }
 },
 "nbformat": 4,
 "nbformat_minor": 4
}
